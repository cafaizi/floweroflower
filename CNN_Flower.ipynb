{
  "nbformat": 4,
  "nbformat_minor": 0,
  "metadata": {
    "colab": {
      "name": "CNN ML.ipynb",
      "provenance": [],
      "collapsed_sections": [],
      "include_colab_link": true
    },
    "kernelspec": {
      "name": "python3",
      "display_name": "Python 3"
    },
    "language_info": {
      "name": "python"
    },
    "accelerator": "GPU"
  },
  "cells": [
    {
      "cell_type": "markdown",
      "metadata": {
        "id": "view-in-github",
        "colab_type": "text"
      },
      "source": [
        "<a href=\"https://colab.research.google.com/github/cafaizi/floweroflower/blob/main/CNN_Flower.ipynb\" target=\"_parent\"><img src=\"https://colab.research.google.com/assets/colab-badge.svg\" alt=\"Open In Colab\"/></a>"
      ]
    },
    {
      "cell_type": "code",
      "metadata": {
        "id": "n_wwFj0c89wR"
      },
      "source": [
        "import cv2\n",
        "import numpy as np\n",
        "import tensorflow as tf\n",
        "import matplotlib.pyplot as plt\n",
        "import glob, os, random\n",
        "from keras.optimizers import Adam\n",
        "from keras.preprocessing.image import ImageDataGenerator"
      ],
      "execution_count": null,
      "outputs": []
    },
    {
      "cell_type": "code",
      "metadata": {
        "colab": {
          "base_uri": "https://localhost:8080/"
        },
        "id": "-qtNWmec_WKk",
        "outputId": "5dd64f2b-67da-47ad-bc5a-a6c10f064dd0"
      },
      "source": [
        "from google.colab import drive\n",
        "drive.mount('/content/drive')\n",
        "\n",
        "data_dir = '/content/drive/MyDrive/flowers dataset'\n",
        "train_dir = os.path.join(data_dir, '/content/drive/MyDrive/flowers dataset/training')\n",
        "test_dir = os.path.join(data_dir, '/content/drive/MyDrive/flowers dataset/testing')"
      ],
      "execution_count": null,
      "outputs": [
        {
          "output_type": "stream",
          "text": [
            "Drive already mounted at /content/drive; to attempt to forcibly remount, call drive.mount(\"/content/drive\", force_remount=True).\n"
          ],
          "name": "stdout"
        }
      ]
    },
    {
      "cell_type": "markdown",
      "metadata": {
        "id": "vGEfltAumDEd"
      },
      "source": [
        "## ARCHITECTURE"
      ]
    },
    {
      "cell_type": "code",
      "metadata": {
        "colab": {
          "base_uri": "https://localhost:8080/"
        },
        "id": "qGVICFD6BY9F",
        "outputId": "7360492a-e94e-4003-ff7c-d61b6f532017"
      },
      "source": [
        "train_datagen = ImageDataGenerator(\n",
        "      rescale=1./255,\n",
        "      shear_range=0.2,\n",
        "      zoom_range=0.2,\n",
        "      width_shift_range=0.2,\n",
        "      height_shift_range=0.2,\n",
        "      rotation_range=40,\n",
        "      horizontal_flip=True,\n",
        "      validation_split=0.2,\n",
        "      fill_mode='nearest')\n",
        "\n",
        "train_generator = train_datagen.flow_from_directory(\n",
        "        train_dir, \n",
        "        target_size=(320,240),  \n",
        "        batch_size=20,\n",
        "        color_mode=\"grayscale\",\n",
        "        class_mode='categorical',\n",
        "        subset='training',\n",
        "        seed=0)"
      ],
      "execution_count": null,
      "outputs": [
        {
          "output_type": "stream",
          "text": [
            "Found 240 images belonging to 3 classes.\n"
          ],
          "name": "stdout"
        }
      ]
    },
    {
      "cell_type": "code",
      "metadata": {
        "colab": {
          "base_uri": "https://localhost:8080/"
        },
        "id": "roEjpM-sFDw6",
        "outputId": "8672411c-41e3-4d93-b509-7909994cb05e"
      },
      "source": [
        "test_datagen = ImageDataGenerator(rescale=1./255, validation_split=0.2)\n",
        "\n",
        "test_generator = test_datagen.flow_from_directory(\n",
        "        test_dir,\n",
        "        target_size=(320,240),\n",
        "        batch_size=20,\n",
        "        color_mode=\"grayscale\",\n",
        "        class_mode='categorical',\n",
        "        subset='validation',\n",
        "        seed=0)"
      ],
      "execution_count": null,
      "outputs": [
        {
          "output_type": "stream",
          "text": [
            "Found 60 images belonging to 3 classes.\n"
          ],
          "name": "stdout"
        }
      ]
    },
    {
      "cell_type": "markdown",
      "metadata": {
        "id": "ggqJxQJ-HEUS"
      },
      "source": [
        "##TRAINING & TESTING (LR = 0.1)\n"
      ]
    },
    {
      "cell_type": "code",
      "metadata": {
        "colab": {
          "base_uri": "https://localhost:8080/"
        },
        "id": "xooCNu4QHSFH",
        "outputId": "a6654716-8224-48b0-9c21-754e432f0c89"
      },
      "source": [
        "model01 = tf.keras.models.Sequential([\n",
        "    tf.keras.layers.Conv2D(32, (5,5), activation='relu', input_shape=(320,240,1)),\n",
        "    tf.keras.layers.MaxPooling2D(2,2),\n",
        "    tf.keras.layers.Conv2D(64, (5,5), activation='relu'),\n",
        "    tf.keras.layers.MaxPooling2D(2,2),\n",
        "    tf.keras.layers.Flatten(),\n",
        "    tf.keras.layers.Dense(256, activation='relu'),\n",
        "    tf.keras.layers.Dropout(0.3),\n",
        "    tf.keras.layers.Dense(3, activation='softmax')\n",
        "])\n",
        "model01.summary()"
      ],
      "execution_count": null,
      "outputs": [
        {
          "output_type": "stream",
          "text": [
            "Model: \"sequential\"\n",
            "_________________________________________________________________\n",
            "Layer (type)                 Output Shape              Param #   \n",
            "=================================================================\n",
            "conv2d (Conv2D)              (None, 316, 236, 32)      832       \n",
            "_________________________________________________________________\n",
            "max_pooling2d (MaxPooling2D) (None, 158, 118, 32)      0         \n",
            "_________________________________________________________________\n",
            "conv2d_1 (Conv2D)            (None, 154, 114, 64)      51264     \n",
            "_________________________________________________________________\n",
            "max_pooling2d_1 (MaxPooling2 (None, 77, 57, 64)        0         \n",
            "_________________________________________________________________\n",
            "flatten (Flatten)            (None, 280896)            0         \n",
            "_________________________________________________________________\n",
            "dense (Dense)                (None, 256)               71909632  \n",
            "_________________________________________________________________\n",
            "dropout (Dropout)            (None, 256)               0         \n",
            "_________________________________________________________________\n",
            "dense_1 (Dense)              (None, 3)                 771       \n",
            "=================================================================\n",
            "Total params: 71,962,499\n",
            "Trainable params: 71,962,499\n",
            "Non-trainable params: 0\n",
            "_________________________________________________________________\n"
          ],
          "name": "stdout"
        }
      ]
    },
    {
      "cell_type": "code",
      "metadata": {
        "id": "QWV33bldIwC8"
      },
      "source": [
        "model01.compile(loss='categorical_crossentropy', optimizer=Adam(learning_rate=0.1), metrics=['acc'])"
      ],
      "execution_count": null,
      "outputs": []
    },
    {
      "cell_type": "code",
      "metadata": {
        "colab": {
          "base_uri": "https://localhost:8080/"
        },
        "id": "LdqghBt6KATR",
        "outputId": "d30ae8db-9d21-491e-e657-b9475e1324fe"
      },
      "source": [
        "model01.fit_generator(train_generator, epochs=50, validation_data=test_generator)"
      ],
      "execution_count": null,
      "outputs": [
        {
          "output_type": "stream",
          "text": [
            "/usr/local/lib/python3.7/dist-packages/tensorflow/python/keras/engine/training.py:1940: UserWarning: `Model.fit_generator` is deprecated and will be removed in a future version. Please use `Model.fit`, which supports generators.\n",
            "  warnings.warn('`Model.fit_generator` is deprecated and '\n"
          ],
          "name": "stderr"
        },
        {
          "output_type": "stream",
          "text": [
            "Epoch 1/50\n",
            "12/12 [==============================] - 156s 10s/step - loss: 100399.1406 - acc: 0.3500 - val_loss: 1.1613 - val_acc: 0.3333\n",
            "Epoch 2/50\n",
            "12/12 [==============================] - 3s 275ms/step - loss: 6.3743 - acc: 0.3667 - val_loss: 1.1171 - val_acc: 0.3333\n",
            "Epoch 3/50\n",
            "12/12 [==============================] - 3s 272ms/step - loss: 1.1569 - acc: 0.3292 - val_loss: 1.0987 - val_acc: 0.3333\n",
            "Epoch 4/50\n",
            "12/12 [==============================] - 3s 273ms/step - loss: 1.1198 - acc: 0.3250 - val_loss: 1.1326 - val_acc: 0.3333\n",
            "Epoch 5/50\n",
            "12/12 [==============================] - 3s 273ms/step - loss: 1.1424 - acc: 0.3000 - val_loss: 1.1008 - val_acc: 0.3333\n",
            "Epoch 6/50\n",
            "12/12 [==============================] - 3s 268ms/step - loss: 1.1041 - acc: 0.3167 - val_loss: 1.1012 - val_acc: 0.3333\n",
            "Epoch 7/50\n",
            "12/12 [==============================] - 3s 272ms/step - loss: 1.1091 - acc: 0.2708 - val_loss: 1.1002 - val_acc: 0.3333\n",
            "Epoch 8/50\n",
            "12/12 [==============================] - 3s 265ms/step - loss: 1.1008 - acc: 0.3333 - val_loss: 1.0987 - val_acc: 0.3333\n",
            "Epoch 9/50\n",
            "12/12 [==============================] - 3s 269ms/step - loss: 1.1015 - acc: 0.3333 - val_loss: 1.0989 - val_acc: 0.3333\n",
            "Epoch 10/50\n",
            "12/12 [==============================] - 3s 268ms/step - loss: 1.1021 - acc: 0.3333 - val_loss: 1.0994 - val_acc: 0.3333\n",
            "Epoch 11/50\n",
            "12/12 [==============================] - 3s 268ms/step - loss: 1.1052 - acc: 0.2875 - val_loss: 1.0999 - val_acc: 0.3333\n",
            "Epoch 12/50\n",
            "12/12 [==============================] - 3s 270ms/step - loss: 1.1028 - acc: 0.3125 - val_loss: 1.1003 - val_acc: 0.3333\n",
            "Epoch 13/50\n",
            "12/12 [==============================] - 3s 276ms/step - loss: 1.1053 - acc: 0.2917 - val_loss: 1.1004 - val_acc: 0.3333\n",
            "Epoch 14/50\n",
            "12/12 [==============================] - 3s 271ms/step - loss: 1.1005 - acc: 0.3333 - val_loss: 1.1018 - val_acc: 0.3333\n",
            "Epoch 15/50\n",
            "12/12 [==============================] - 3s 270ms/step - loss: 1.1041 - acc: 0.3125 - val_loss: 1.0997 - val_acc: 0.3333\n",
            "Epoch 16/50\n",
            "12/12 [==============================] - 3s 271ms/step - loss: 1.1049 - acc: 0.2958 - val_loss: 1.0992 - val_acc: 0.3333\n",
            "Epoch 17/50\n",
            "12/12 [==============================] - 3s 267ms/step - loss: 1.1032 - acc: 0.3458 - val_loss: 1.0995 - val_acc: 0.3333\n",
            "Epoch 18/50\n",
            "12/12 [==============================] - 3s 270ms/step - loss: 1.1044 - acc: 0.2875 - val_loss: 1.0987 - val_acc: 0.3333\n",
            "Epoch 19/50\n",
            "12/12 [==============================] - 3s 274ms/step - loss: 1.1058 - acc: 0.3125 - val_loss: 1.0987 - val_acc: 0.3333\n",
            "Epoch 20/50\n",
            "12/12 [==============================] - 3s 272ms/step - loss: 1.1003 - acc: 0.3125 - val_loss: 1.0987 - val_acc: 0.3333\n",
            "Epoch 21/50\n",
            "12/12 [==============================] - 3s 272ms/step - loss: 1.1005 - acc: 0.3000 - val_loss: 1.0989 - val_acc: 0.3333\n",
            "Epoch 22/50\n",
            "12/12 [==============================] - 3s 271ms/step - loss: 1.1049 - acc: 0.3333 - val_loss: 1.0993 - val_acc: 0.3333\n",
            "Epoch 23/50\n",
            "12/12 [==============================] - 3s 274ms/step - loss: 1.1093 - acc: 0.3292 - val_loss: 1.1054 - val_acc: 0.3333\n",
            "Epoch 24/50\n",
            "12/12 [==============================] - 3s 270ms/step - loss: 1.1029 - acc: 0.3417 - val_loss: 1.1025 - val_acc: 0.3333\n",
            "Epoch 25/50\n",
            "12/12 [==============================] - 3s 272ms/step - loss: 1.1048 - acc: 0.3167 - val_loss: 1.0992 - val_acc: 0.3333\n",
            "Epoch 26/50\n",
            "12/12 [==============================] - 3s 275ms/step - loss: 1.1061 - acc: 0.2875 - val_loss: 1.1000 - val_acc: 0.3333\n",
            "Epoch 27/50\n",
            "12/12 [==============================] - 3s 270ms/step - loss: 1.1040 - acc: 0.3500 - val_loss: 1.1024 - val_acc: 0.3333\n",
            "Epoch 28/50\n",
            "12/12 [==============================] - 3s 273ms/step - loss: 1.1049 - acc: 0.3083 - val_loss: 1.0988 - val_acc: 0.3333\n",
            "Epoch 29/50\n",
            "12/12 [==============================] - 3s 277ms/step - loss: 1.1104 - acc: 0.3042 - val_loss: 1.1012 - val_acc: 0.3333\n",
            "Epoch 30/50\n",
            "12/12 [==============================] - 3s 274ms/step - loss: 1.0970 - acc: 0.3625 - val_loss: 1.1011 - val_acc: 0.3333\n",
            "Epoch 31/50\n",
            "12/12 [==============================] - 3s 272ms/step - loss: 1.1057 - acc: 0.3208 - val_loss: 1.0997 - val_acc: 0.3333\n",
            "Epoch 32/50\n",
            "12/12 [==============================] - 3s 275ms/step - loss: 1.0993 - acc: 0.3500 - val_loss: 1.0999 - val_acc: 0.3333\n",
            "Epoch 33/50\n",
            "12/12 [==============================] - 3s 269ms/step - loss: 1.1044 - acc: 0.3333 - val_loss: 1.1005 - val_acc: 0.3333\n",
            "Epoch 34/50\n",
            "12/12 [==============================] - 3s 275ms/step - loss: 1.1001 - acc: 0.3375 - val_loss: 1.0990 - val_acc: 0.3333\n",
            "Epoch 35/50\n",
            "12/12 [==============================] - 3s 274ms/step - loss: 1.1049 - acc: 0.3125 - val_loss: 1.1001 - val_acc: 0.3333\n",
            "Epoch 36/50\n",
            "12/12 [==============================] - 3s 270ms/step - loss: 1.1084 - acc: 0.2958 - val_loss: 1.1007 - val_acc: 0.3333\n",
            "Epoch 37/50\n",
            "12/12 [==============================] - 3s 274ms/step - loss: 1.1080 - acc: 0.3000 - val_loss: 1.1028 - val_acc: 0.3333\n",
            "Epoch 38/50\n",
            "12/12 [==============================] - 3s 275ms/step - loss: 1.1107 - acc: 0.2917 - val_loss: 1.1041 - val_acc: 0.3333\n",
            "Epoch 39/50\n",
            "12/12 [==============================] - 3s 273ms/step - loss: 1.1000 - acc: 0.3333 - val_loss: 1.0989 - val_acc: 0.3333\n",
            "Epoch 40/50\n",
            "12/12 [==============================] - 3s 271ms/step - loss: 1.1015 - acc: 0.2750 - val_loss: 1.0992 - val_acc: 0.3333\n",
            "Epoch 41/50\n",
            "12/12 [==============================] - 3s 273ms/step - loss: 1.1018 - acc: 0.3333 - val_loss: 1.0990 - val_acc: 0.3333\n",
            "Epoch 42/50\n",
            "12/12 [==============================] - 3s 276ms/step - loss: 1.1090 - acc: 0.3333 - val_loss: 1.0997 - val_acc: 0.3333\n",
            "Epoch 43/50\n",
            "12/12 [==============================] - 3s 278ms/step - loss: 1.0985 - acc: 0.3167 - val_loss: 1.1013 - val_acc: 0.3333\n",
            "Epoch 44/50\n",
            "12/12 [==============================] - 3s 274ms/step - loss: 1.1051 - acc: 0.3333 - val_loss: 1.0993 - val_acc: 0.3333\n",
            "Epoch 45/50\n",
            "12/12 [==============================] - 3s 275ms/step - loss: 1.1060 - acc: 0.3083 - val_loss: 1.0999 - val_acc: 0.3333\n",
            "Epoch 46/50\n",
            "12/12 [==============================] - 3s 275ms/step - loss: 1.1009 - acc: 0.3250 - val_loss: 1.1059 - val_acc: 0.3333\n",
            "Epoch 47/50\n",
            "12/12 [==============================] - 3s 275ms/step - loss: 1.1049 - acc: 0.2917 - val_loss: 1.0993 - val_acc: 0.3333\n",
            "Epoch 48/50\n",
            "12/12 [==============================] - 3s 275ms/step - loss: 1.1019 - acc: 0.3167 - val_loss: 1.0990 - val_acc: 0.3333\n",
            "Epoch 49/50\n",
            "12/12 [==============================] - 3s 275ms/step - loss: 1.1023 - acc: 0.3250 - val_loss: 1.0989 - val_acc: 0.3333\n",
            "Epoch 50/50\n",
            "12/12 [==============================] - 3s 277ms/step - loss: 1.1045 - acc: 0.3333 - val_loss: 1.0990 - val_acc: 0.3333\n"
          ],
          "name": "stdout"
        },
        {
          "output_type": "execute_result",
          "data": {
            "text/plain": [
              "<tensorflow.python.keras.callbacks.History at 0x7f4baa8f4b10>"
            ]
          },
          "metadata": {
            "tags": []
          },
          "execution_count": 11
        }
      ]
    },
    {
      "cell_type": "markdown",
      "metadata": {
        "id": "0lk4jkF6mVSH"
      },
      "source": [
        "##VISUALIZING"
      ]
    },
    {
      "cell_type": "code",
      "metadata": {
        "colab": {
          "base_uri": "https://localhost:8080/"
        },
        "id": "IbXGpgLMMiPI",
        "outputId": "1b748c11-fda5-41a2-8da7-ac65ae6e87da"
      },
      "source": [
        "accuracy01 = model01.history.history['acc']\n",
        "loss01 = model01.history.history['loss']\n",
        "val_loss01 = model01.history.history['val_loss']\n",
        "val_acc01 = model01.history.history['val_acc']\n",
        "\n",
        "print('accuracy = ' accuracy01[-1])\n",
        "print(val_acc01[-1])"
      ],
      "execution_count": null,
      "outputs": [
        {
          "output_type": "stream",
          "text": [
            "0.3333333432674408\n",
            "0.3333333432674408\n"
          ],
          "name": "stdout"
        }
      ]
    },
    {
      "cell_type": "code",
      "metadata": {
        "colab": {
          "base_uri": "https://localhost:8080/",
          "height": 531
        },
        "id": "4elhPNujNK85",
        "outputId": "37e3d3ae-ae6f-4623-d2c0-fdba5588fc7d"
      },
      "source": [
        "import pandas as pd\n",
        "histories = pd.DataFrame(model01.history.history)\n",
        "histories[[\"acc\", \"val_acc\"]].plot()\n",
        "histories[[\"loss\", \"val_loss\"]].plot()"
      ],
      "execution_count": null,
      "outputs": [
        {
          "output_type": "execute_result",
          "data": {
            "text/plain": [
              "<matplotlib.axes._subplots.AxesSubplot at 0x7f4ba00f78d0>"
            ]
          },
          "metadata": {
            "tags": []
          },
          "execution_count": 18
        },
        {
          "output_type": "display_data",
          "data": {
            "image/png": "[encoded data removed]",
            "text/plain": [
              "<Figure size 432x288 with 1 Axes>"
            ]
          },
          "metadata": {
            "tags": [],
            "needs_background": "light"
          }
        },
        {
          "output_type": "display_data",
          "data": {
            "image/png": "[encoded data removed]",
            "text/plain": [
              "<Figure size 432x288 with 1 Axes>"
            ]
          },
          "metadata": {
            "tags": [],
            "needs_background": "light"
          }
        }
      ]
    },
    {
      "cell_type": "markdown",
      "metadata": {
        "id": "gD1XJBrkHs3C"
      },
      "source": [
        "##TRAINING & TESTING (LR = 0.8)"
      ]
    },
    {
      "cell_type": "code",
      "metadata": {
        "colab": {
          "base_uri": "https://localhost:8080/"
        },
        "id": "XkEA420wNot_",
        "outputId": "359982f0-61be-4e99-a8f5-4587ed9970af"
      },
      "source": [
        "model08 = tf.keras.models.Sequential([\n",
        "    tf.keras.layers.Conv2D(32, (5,5), activation='relu', input_shape=(320,240,1)),\n",
        "    tf.keras.layers.MaxPooling2D(2,2),\n",
        "    tf.keras.layers.Conv2D(64, (5,5), activation='relu'),\n",
        "    tf.keras.layers.MaxPooling2D(2,2),\n",
        "    tf.keras.layers.Flatten(),\n",
        "    tf.keras.layers.Dense(256, activation='relu'),\n",
        "    tf.keras.layers.Dropout(0.3),\n",
        "    tf.keras.layers.Dense(3, activation='softmax')\n",
        "])\n",
        "model08.summary()"
      ],
      "execution_count": null,
      "outputs": [
        {
          "output_type": "stream",
          "text": [
            "Model: \"sequential_1\"\n",
            "_________________________________________________________________\n",
            "Layer (type)                 Output Shape              Param #   \n",
            "=================================================================\n",
            "conv2d_2 (Conv2D)            (None, 316, 236, 32)      832       \n",
            "_________________________________________________________________\n",
            "max_pooling2d_2 (MaxPooling2 (None, 158, 118, 32)      0         \n",
            "_________________________________________________________________\n",
            "conv2d_3 (Conv2D)            (None, 154, 114, 64)      51264     \n",
            "_________________________________________________________________\n",
            "max_pooling2d_3 (MaxPooling2 (None, 77, 57, 64)        0         \n",
            "_________________________________________________________________\n",
            "flatten_1 (Flatten)          (None, 280896)            0         \n",
            "_________________________________________________________________\n",
            "dense_2 (Dense)              (None, 256)               71909632  \n",
            "_________________________________________________________________\n",
            "dropout_1 (Dropout)          (None, 256)               0         \n",
            "_________________________________________________________________\n",
            "dense_3 (Dense)              (None, 3)                 771       \n",
            "=================================================================\n",
            "Total params: 71,962,499\n",
            "Trainable params: 71,962,499\n",
            "Non-trainable params: 0\n",
            "_________________________________________________________________\n"
          ],
          "name": "stdout"
        }
      ]
    },
    {
      "cell_type": "code",
      "metadata": {
        "id": "lxfmz7XWNunD"
      },
      "source": [
        "model08.compile(loss='categorical_crossentropy', optimizer=Adam(learning_rate=0.8), metrics=['acc'])"
      ],
      "execution_count": null,
      "outputs": []
    },
    {
      "cell_type": "code",
      "metadata": {
        "colab": {
          "base_uri": "https://localhost:8080/"
        },
        "id": "7QYKfMDdN5dr",
        "outputId": "240555c1-068e-444f-df15-f1e4328d86e6"
      },
      "source": [
        "model08.fit_generator(train_generator, epochs=50, validation_data=test_generator)"
      ],
      "execution_count": null,
      "outputs": [
        {
          "output_type": "stream",
          "text": [
            "/usr/local/lib/python3.7/dist-packages/tensorflow/python/keras/engine/training.py:1940: UserWarning: `Model.fit_generator` is deprecated and will be removed in a future version. Please use `Model.fit`, which supports generators.\n",
            "  warnings.warn('`Model.fit_generator` is deprecated and '\n"
          ],
          "name": "stderr"
        },
        {
          "output_type": "stream",
          "text": [
            "Epoch 1/50\n",
            "12/12 [==============================] - 4s 303ms/step - loss: 56608256.0000 - acc: 0.3958 - val_loss: 55327.9922 - val_acc: 0.3333\n",
            "Epoch 2/50\n",
            "12/12 [==============================] - 3s 274ms/step - loss: 80264.9609 - acc: 0.2875 - val_loss: 9471.7969 - val_acc: 0.3333\n",
            "Epoch 3/50\n",
            "12/12 [==============================] - 3s 273ms/step - loss: 718.1953 - acc: 0.3250 - val_loss: 8.3293 - val_acc: 0.3500\n",
            "Epoch 4/50\n",
            "12/12 [==============================] - 3s 269ms/step - loss: 1.6019 - acc: 0.3417 - val_loss: 8.4767 - val_acc: 0.3333\n",
            "Epoch 5/50\n",
            "12/12 [==============================] - 3s 271ms/step - loss: 1.2495 - acc: 0.3167 - val_loss: 9.0816 - val_acc: 0.3500\n",
            "Epoch 6/50\n",
            "12/12 [==============================] - 3s 271ms/step - loss: 1.1194 - acc: 0.3208 - val_loss: 9.2772 - val_acc: 0.3333\n",
            "Epoch 7/50\n",
            "12/12 [==============================] - 3s 271ms/step - loss: 1.1418 - acc: 0.2958 - val_loss: 9.3426 - val_acc: 0.3333\n",
            "Epoch 8/50\n",
            "12/12 [==============================] - 3s 271ms/step - loss: 1.1465 - acc: 0.2917 - val_loss: 9.3987 - val_acc: 0.3500\n",
            "Epoch 9/50\n",
            "12/12 [==============================] - 3s 273ms/step - loss: 1.1363 - acc: 0.3458 - val_loss: 9.3898 - val_acc: 0.3333\n",
            "Epoch 10/50\n",
            "12/12 [==============================] - 3s 275ms/step - loss: 1.1088 - acc: 0.3333 - val_loss: 9.4015 - val_acc: 0.3500\n",
            "Epoch 11/50\n",
            "12/12 [==============================] - 3s 274ms/step - loss: 1.1168 - acc: 0.3708 - val_loss: 9.4015 - val_acc: 0.3333\n",
            "Epoch 12/50\n",
            "12/12 [==============================] - 3s 274ms/step - loss: 1.1773 - acc: 0.2917 - val_loss: 9.3889 - val_acc: 0.3333\n",
            "Epoch 13/50\n",
            "12/12 [==============================] - 3s 275ms/step - loss: 1.1722 - acc: 0.2958 - val_loss: 9.4071 - val_acc: 0.3500\n",
            "Epoch 14/50\n",
            "12/12 [==============================] - 3s 275ms/step - loss: 1.1291 - acc: 0.3042 - val_loss: 9.3790 - val_acc: 0.3333\n",
            "Epoch 15/50\n",
            "12/12 [==============================] - 3s 274ms/step - loss: 1.1205 - acc: 0.2583 - val_loss: 9.3668 - val_acc: 0.3333\n",
            "Epoch 16/50\n",
            "12/12 [==============================] - 3s 276ms/step - loss: 1.1159 - acc: 0.3000 - val_loss: 9.3784 - val_acc: 0.3500\n",
            "Epoch 17/50\n",
            "12/12 [==============================] - 3s 274ms/step - loss: 1.1228 - acc: 0.3042 - val_loss: 9.3717 - val_acc: 0.3333\n",
            "Epoch 18/50\n",
            "12/12 [==============================] - 3s 272ms/step - loss: 1.1391 - acc: 0.3375 - val_loss: 9.3900 - val_acc: 0.3333\n",
            "Epoch 19/50\n",
            "12/12 [==============================] - 3s 279ms/step - loss: 1.1689 - acc: 0.3792 - val_loss: 9.5431 - val_acc: 0.3500\n",
            "Epoch 20/50\n",
            "12/12 [==============================] - 3s 274ms/step - loss: 1.2185 - acc: 0.3583 - val_loss: 9.4821 - val_acc: 0.3333\n",
            "Epoch 21/50\n",
            "12/12 [==============================] - 3s 272ms/step - loss: 1.1312 - acc: 0.3625 - val_loss: 9.3933 - val_acc: 0.3500\n",
            "Epoch 22/50\n",
            "12/12 [==============================] - 3s 276ms/step - loss: 1.1681 - acc: 0.3625 - val_loss: 9.4866 - val_acc: 0.3333\n",
            "Epoch 23/50\n",
            "12/12 [==============================] - 3s 272ms/step - loss: 1.2481 - acc: 0.3000 - val_loss: 9.4979 - val_acc: 0.3333\n",
            "Epoch 24/50\n",
            "12/12 [==============================] - 3s 274ms/step - loss: 1.1963 - acc: 0.3208 - val_loss: 9.4084 - val_acc: 0.3500\n",
            "Epoch 25/50\n",
            "12/12 [==============================] - 3s 273ms/step - loss: 1.1359 - acc: 0.3167 - val_loss: 9.3679 - val_acc: 0.3333\n",
            "Epoch 26/50\n",
            "12/12 [==============================] - 3s 270ms/step - loss: 1.1206 - acc: 0.2875 - val_loss: 9.3707 - val_acc: 0.3333\n",
            "Epoch 27/50\n",
            "12/12 [==============================] - 3s 272ms/step - loss: 1.1201 - acc: 0.3042 - val_loss: 9.3855 - val_acc: 0.3333\n",
            "Epoch 28/50\n",
            "12/12 [==============================] - 3s 272ms/step - loss: 1.1309 - acc: 0.3375 - val_loss: 9.4462 - val_acc: 0.3333\n",
            "Epoch 29/50\n",
            "12/12 [==============================] - 3s 275ms/step - loss: 1.1537 - acc: 0.2833 - val_loss: 9.3894 - val_acc: 0.3333\n",
            "Epoch 30/50\n",
            "12/12 [==============================] - 3s 275ms/step - loss: 1.1310 - acc: 0.3250 - val_loss: 9.3670 - val_acc: 0.3333\n",
            "Epoch 31/50\n",
            "12/12 [==============================] - 3s 272ms/step - loss: 1.1150 - acc: 0.3417 - val_loss: 9.3842 - val_acc: 0.3333\n",
            "Epoch 32/50\n",
            "12/12 [==============================] - 3s 271ms/step - loss: 1.1191 - acc: 0.3083 - val_loss: 9.3749 - val_acc: 0.3333\n",
            "Epoch 33/50\n",
            "12/12 [==============================] - 3s 275ms/step - loss: 1.1197 - acc: 0.3042 - val_loss: 9.3729 - val_acc: 0.3333\n",
            "Epoch 34/50\n",
            "12/12 [==============================] - 3s 276ms/step - loss: 439.2275 - acc: 0.2625 - val_loss: 1.1153 - val_acc: 0.3333\n",
            "Epoch 35/50\n",
            "12/12 [==============================] - 3s 275ms/step - loss: 1.1408 - acc: 0.2875 - val_loss: 1.1112 - val_acc: 0.3333\n",
            "Epoch 36/50\n",
            "12/12 [==============================] - 3s 272ms/step - loss: 1.1247 - acc: 0.3000 - val_loss: 1.1023 - val_acc: 0.3333\n",
            "Epoch 37/50\n",
            "12/12 [==============================] - 3s 277ms/step - loss: 1.1235 - acc: 0.3042 - val_loss: 1.1344 - val_acc: 0.3333\n",
            "Epoch 38/50\n",
            "12/12 [==============================] - 3s 279ms/step - loss: 1.1599 - acc: 0.3083 - val_loss: 1.1433 - val_acc: 0.3333\n",
            "Epoch 39/50\n",
            "12/12 [==============================] - 3s 272ms/step - loss: 1.1607 - acc: 0.3333 - val_loss: 1.1712 - val_acc: 0.3333\n",
            "Epoch 40/50\n",
            "12/12 [==============================] - 3s 274ms/step - loss: 1.1247 - acc: 0.3500 - val_loss: 1.1375 - val_acc: 0.3333\n",
            "Epoch 41/50\n",
            "12/12 [==============================] - 3s 275ms/step - loss: 1.1196 - acc: 0.2667 - val_loss: 1.1014 - val_acc: 0.3333\n",
            "Epoch 42/50\n",
            "12/12 [==============================] - 3s 272ms/step - loss: 1.1243 - acc: 0.3000 - val_loss: 1.1401 - val_acc: 0.3333\n",
            "Epoch 43/50\n",
            "12/12 [==============================] - 3s 274ms/step - loss: 1.1325 - acc: 0.3500 - val_loss: 1.1133 - val_acc: 0.3333\n",
            "Epoch 44/50\n",
            "12/12 [==============================] - 3s 274ms/step - loss: 1.2061 - acc: 0.2917 - val_loss: 1.2861 - val_acc: 0.3333\n",
            "Epoch 45/50\n",
            "12/12 [==============================] - 3s 274ms/step - loss: 1.1524 - acc: 0.3667 - val_loss: 1.1296 - val_acc: 0.3333\n",
            "Epoch 46/50\n",
            "12/12 [==============================] - 3s 274ms/step - loss: 1.1267 - acc: 0.3375 - val_loss: 1.1148 - val_acc: 0.3333\n",
            "Epoch 47/50\n",
            "12/12 [==============================] - 3s 274ms/step - loss: 1.1377 - acc: 0.3583 - val_loss: 1.1674 - val_acc: 0.3333\n",
            "Epoch 48/50\n",
            "12/12 [==============================] - 3s 269ms/step - loss: 1.1543 - acc: 0.3333 - val_loss: 1.1772 - val_acc: 0.3333\n",
            "Epoch 49/50\n",
            "12/12 [==============================] - 3s 270ms/step - loss: 1.1387 - acc: 0.3625 - val_loss: 1.1347 - val_acc: 0.3333\n",
            "Epoch 50/50\n",
            "12/12 [==============================] - 3s 272ms/step - loss: 1.1328 - acc: 0.2875 - val_loss: 1.1073 - val_acc: 0.3333\n"
          ],
          "name": "stdout"
        },
        {
          "output_type": "execute_result",
          "data": {
            "text/plain": [
              "<tensorflow.python.keras.callbacks.History at 0x7f4b05bf6250>"
            ]
          },
          "metadata": {
            "tags": []
          },
          "execution_count": 21
        }
      ]
    },
    {
      "cell_type": "markdown",
      "metadata": {
        "id": "M-vaRSIfmXmq"
      },
      "source": [
        "##VISUALIZING"
      ]
    },
    {
      "cell_type": "code",
      "metadata": {
        "colab": {
          "base_uri": "https://localhost:8080/"
        },
        "id": "_4dyhos4Opff",
        "outputId": "b39662a4-881a-4223-8a72-30d06c15daec"
      },
      "source": [
        "accuracy08 = model08.history.history['acc']\n",
        "loss08 = model08.history.history['loss']\n",
        "val_loss08 = model08.history.history['val_loss']\n",
        "val_acc08 = model08.history.history['val_acc']\n",
        "\n",
        "print(accuracy08[-1])\n",
        "print(val_acc08[-1])"
      ],
      "execution_count": null,
      "outputs": [
        {
          "output_type": "stream",
          "text": [
            "0.2874999940395355\n",
            "0.3333333432674408\n"
          ],
          "name": "stdout"
        }
      ]
    },
    {
      "cell_type": "code",
      "metadata": {
        "id": "MPVGrXwTOxgZ",
        "colab": {
          "base_uri": "https://localhost:8080/",
          "height": 541
        },
        "outputId": "2e11b725-40cb-4d8c-d4f8-843598f7b643"
      },
      "source": [
        "import pandas as pd\n",
        "histories = pd.DataFrame(model08.history.history)\n",
        "histories[[\"acc\", \"val_acc\"]].plot()\n",
        "histories[[\"loss\", \"val_loss\"]].plot()"
      ],
      "execution_count": null,
      "outputs": [
        {
          "output_type": "execute_result",
          "data": {
            "text/plain": [
              "<matplotlib.axes._subplots.AxesSubplot at 0x7f4b049f4110>"
            ]
          },
          "metadata": {
            "tags": []
          },
          "execution_count": 23
        },
        {
          "output_type": "display_data",
          "data": {
            "image/png": "[encoded data removed]",
            "text/plain": [
              "<Figure size 432x288 with 1 Axes>"
            ]
          },
          "metadata": {
            "tags": [],
            "needs_background": "light"
          }
        },
        {
          "output_type": "display_data",
          "data": {
            "image/png": "[encoded data removed]",
            "text/plain": [
              "<Figure size 432x288 with 1 Axes>"
            ]
          },
          "metadata": {
            "tags": [],
            "needs_background": "light"
          }
        }
      ]
    }
  ]
}